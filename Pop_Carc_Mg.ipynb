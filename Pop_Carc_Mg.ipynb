{
  "cells": [
    {
      "cell_type": "markdown",
      "metadata": {
        "id": "view-in-github",
        "colab_type": "text"
      },
      "source": [
        "<a href=\"https://colab.research.google.com/github/Pantercode/Popula-oCarcerariaMG/blob/main/Pop_Carc_Mg.ipynb\" target=\"_parent\"><img src=\"https://colab.research.google.com/assets/colab-badge.svg\" alt=\"Open In Colab\"/></a>"
      ]
    },
    {
      "cell_type": "markdown",
      "id": "54c46d4b",
      "metadata": {
        "id": "54c46d4b"
      },
      "source": [
        "# Projeto de Análise da População Carcerária em Minas Gerais"
      ]
    },
    {
      "cell_type": "code",
      "execution_count": null,
      "id": "ac5f08a5",
      "metadata": {
        "id": "ac5f08a5"
      },
      "outputs": [],
      "source": [
        "#importando Libs\n",
        "import pandas as pd\n",
        "import numpy as np\n",
        "import warnings\n",
        "warnings.filterwarnings(\"ignore\")\n",
        "import matplotlib.pyplot as plt\n",
        "import seaborn as sns\n",
        "import plotly.express as px\n",
        "import plotly.graph_objs as go\n",
        "import scipy.stats as stats\n",
        "import statsmodels\n",
        "from statsmodels.stats.diagnostic import lilliefors"
      ]
    },
    {
      "cell_type": "code",
      "execution_count": null,
      "id": "1ae30c3f",
      "metadata": {
        "id": "1ae30c3f",
        "outputId": "d82927b3-996a-4788-9ad7-57e0c1994e72",
        "colab": {
          "base_uri": "https://localhost:8080/",
          "height": 355
        }
      },
      "outputs": [
        {
          "output_type": "error",
          "ename": "FileNotFoundError",
          "evalue": "ignored",
          "traceback": [
            "\u001b[0;31m---------------------------------------------------------------------------\u001b[0m",
            "\u001b[0;31mFileNotFoundError\u001b[0m                         Traceback (most recent call last)",
            "\u001b[0;32m<ipython-input-7-0a1bab95fe81>\u001b[0m in \u001b[0;36m<cell line: 2>\u001b[0;34m()\u001b[0m\n\u001b[1;32m      1\u001b[0m \u001b[0;31m#leitura do dataset\u001b[0m\u001b[0;34m\u001b[0m\u001b[0;34m\u001b[0m\u001b[0m\n\u001b[0;32m----> 2\u001b[0;31m \u001b[0mdf_pop\u001b[0m \u001b[0;34m=\u001b[0m \u001b[0mpd\u001b[0m\u001b[0;34m.\u001b[0m\u001b[0mread_csv\u001b[0m\u001b[0;34m(\u001b[0m\u001b[0;34m'populacao-carceraria.csv'\u001b[0m\u001b[0;34m,\u001b[0m\u001b[0msep\u001b[0m\u001b[0;34m=\u001b[0m\u001b[0;34m';'\u001b[0m\u001b[0;34m)\u001b[0m\u001b[0;34m\u001b[0m\u001b[0;34m\u001b[0m\u001b[0m\n\u001b[0m\u001b[1;32m      3\u001b[0m \u001b[0mdf_pop\u001b[0m\u001b[0;34m\u001b[0m\u001b[0;34m\u001b[0m\u001b[0m\n",
            "\u001b[0;32m/usr/local/lib/python3.10/dist-packages/pandas/util/_decorators.py\u001b[0m in \u001b[0;36mwrapper\u001b[0;34m(*args, **kwargs)\u001b[0m\n\u001b[1;32m    209\u001b[0m                 \u001b[0;32melse\u001b[0m\u001b[0;34m:\u001b[0m\u001b[0;34m\u001b[0m\u001b[0;34m\u001b[0m\u001b[0m\n\u001b[1;32m    210\u001b[0m                     \u001b[0mkwargs\u001b[0m\u001b[0;34m[\u001b[0m\u001b[0mnew_arg_name\u001b[0m\u001b[0;34m]\u001b[0m \u001b[0;34m=\u001b[0m \u001b[0mnew_arg_value\u001b[0m\u001b[0;34m\u001b[0m\u001b[0;34m\u001b[0m\u001b[0m\n\u001b[0;32m--> 211\u001b[0;31m             \u001b[0;32mreturn\u001b[0m \u001b[0mfunc\u001b[0m\u001b[0;34m(\u001b[0m\u001b[0;34m*\u001b[0m\u001b[0margs\u001b[0m\u001b[0;34m,\u001b[0m \u001b[0;34m**\u001b[0m\u001b[0mkwargs\u001b[0m\u001b[0;34m)\u001b[0m\u001b[0;34m\u001b[0m\u001b[0;34m\u001b[0m\u001b[0m\n\u001b[0m\u001b[1;32m    212\u001b[0m \u001b[0;34m\u001b[0m\u001b[0m\n\u001b[1;32m    213\u001b[0m         \u001b[0;32mreturn\u001b[0m \u001b[0mcast\u001b[0m\u001b[0;34m(\u001b[0m\u001b[0mF\u001b[0m\u001b[0;34m,\u001b[0m \u001b[0mwrapper\u001b[0m\u001b[0;34m)\u001b[0m\u001b[0;34m\u001b[0m\u001b[0;34m\u001b[0m\u001b[0m\n",
            "\u001b[0;32m/usr/local/lib/python3.10/dist-packages/pandas/util/_decorators.py\u001b[0m in \u001b[0;36mwrapper\u001b[0;34m(*args, **kwargs)\u001b[0m\n\u001b[1;32m    329\u001b[0m                     \u001b[0mstacklevel\u001b[0m\u001b[0;34m=\u001b[0m\u001b[0mfind_stack_level\u001b[0m\u001b[0;34m(\u001b[0m\u001b[0;34m)\u001b[0m\u001b[0;34m,\u001b[0m\u001b[0;34m\u001b[0m\u001b[0;34m\u001b[0m\u001b[0m\n\u001b[1;32m    330\u001b[0m                 )\n\u001b[0;32m--> 331\u001b[0;31m             \u001b[0;32mreturn\u001b[0m \u001b[0mfunc\u001b[0m\u001b[0;34m(\u001b[0m\u001b[0;34m*\u001b[0m\u001b[0margs\u001b[0m\u001b[0;34m,\u001b[0m \u001b[0;34m**\u001b[0m\u001b[0mkwargs\u001b[0m\u001b[0;34m)\u001b[0m\u001b[0;34m\u001b[0m\u001b[0;34m\u001b[0m\u001b[0m\n\u001b[0m\u001b[1;32m    332\u001b[0m \u001b[0;34m\u001b[0m\u001b[0m\n\u001b[1;32m    333\u001b[0m         \u001b[0;31m# error: \"Callable[[VarArg(Any), KwArg(Any)], Any]\" has no\u001b[0m\u001b[0;34m\u001b[0m\u001b[0;34m\u001b[0m\u001b[0m\n",
            "\u001b[0;32m/usr/local/lib/python3.10/dist-packages/pandas/io/parsers/readers.py\u001b[0m in \u001b[0;36mread_csv\u001b[0;34m(filepath_or_buffer, sep, delimiter, header, names, index_col, usecols, squeeze, prefix, mangle_dupe_cols, dtype, engine, converters, true_values, false_values, skipinitialspace, skiprows, skipfooter, nrows, na_values, keep_default_na, na_filter, verbose, skip_blank_lines, parse_dates, infer_datetime_format, keep_date_col, date_parser, dayfirst, cache_dates, iterator, chunksize, compression, thousands, decimal, lineterminator, quotechar, quoting, doublequote, escapechar, comment, encoding, encoding_errors, dialect, error_bad_lines, warn_bad_lines, on_bad_lines, delim_whitespace, low_memory, memory_map, float_precision, storage_options)\u001b[0m\n\u001b[1;32m    948\u001b[0m     \u001b[0mkwds\u001b[0m\u001b[0;34m.\u001b[0m\u001b[0mupdate\u001b[0m\u001b[0;34m(\u001b[0m\u001b[0mkwds_defaults\u001b[0m\u001b[0;34m)\u001b[0m\u001b[0;34m\u001b[0m\u001b[0;34m\u001b[0m\u001b[0m\n\u001b[1;32m    949\u001b[0m \u001b[0;34m\u001b[0m\u001b[0m\n\u001b[0;32m--> 950\u001b[0;31m     \u001b[0;32mreturn\u001b[0m \u001b[0m_read\u001b[0m\u001b[0;34m(\u001b[0m\u001b[0mfilepath_or_buffer\u001b[0m\u001b[0;34m,\u001b[0m \u001b[0mkwds\u001b[0m\u001b[0;34m)\u001b[0m\u001b[0;34m\u001b[0m\u001b[0;34m\u001b[0m\u001b[0m\n\u001b[0m\u001b[1;32m    951\u001b[0m \u001b[0;34m\u001b[0m\u001b[0m\n\u001b[1;32m    952\u001b[0m \u001b[0;34m\u001b[0m\u001b[0m\n",
            "\u001b[0;32m/usr/local/lib/python3.10/dist-packages/pandas/io/parsers/readers.py\u001b[0m in \u001b[0;36m_read\u001b[0;34m(filepath_or_buffer, kwds)\u001b[0m\n\u001b[1;32m    603\u001b[0m \u001b[0;34m\u001b[0m\u001b[0m\n\u001b[1;32m    604\u001b[0m     \u001b[0;31m# Create the parser.\u001b[0m\u001b[0;34m\u001b[0m\u001b[0;34m\u001b[0m\u001b[0m\n\u001b[0;32m--> 605\u001b[0;31m     \u001b[0mparser\u001b[0m \u001b[0;34m=\u001b[0m \u001b[0mTextFileReader\u001b[0m\u001b[0;34m(\u001b[0m\u001b[0mfilepath_or_buffer\u001b[0m\u001b[0;34m,\u001b[0m \u001b[0;34m**\u001b[0m\u001b[0mkwds\u001b[0m\u001b[0;34m)\u001b[0m\u001b[0;34m\u001b[0m\u001b[0;34m\u001b[0m\u001b[0m\n\u001b[0m\u001b[1;32m    606\u001b[0m \u001b[0;34m\u001b[0m\u001b[0m\n\u001b[1;32m    607\u001b[0m     \u001b[0;32mif\u001b[0m \u001b[0mchunksize\u001b[0m \u001b[0;32mor\u001b[0m \u001b[0miterator\u001b[0m\u001b[0;34m:\u001b[0m\u001b[0;34m\u001b[0m\u001b[0;34m\u001b[0m\u001b[0m\n",
            "\u001b[0;32m/usr/local/lib/python3.10/dist-packages/pandas/io/parsers/readers.py\u001b[0m in \u001b[0;36m__init__\u001b[0;34m(self, f, engine, **kwds)\u001b[0m\n\u001b[1;32m   1440\u001b[0m \u001b[0;34m\u001b[0m\u001b[0m\n\u001b[1;32m   1441\u001b[0m         \u001b[0mself\u001b[0m\u001b[0;34m.\u001b[0m\u001b[0mhandles\u001b[0m\u001b[0;34m:\u001b[0m \u001b[0mIOHandles\u001b[0m \u001b[0;34m|\u001b[0m \u001b[0;32mNone\u001b[0m \u001b[0;34m=\u001b[0m \u001b[0;32mNone\u001b[0m\u001b[0;34m\u001b[0m\u001b[0;34m\u001b[0m\u001b[0m\n\u001b[0;32m-> 1442\u001b[0;31m         \u001b[0mself\u001b[0m\u001b[0;34m.\u001b[0m\u001b[0m_engine\u001b[0m \u001b[0;34m=\u001b[0m \u001b[0mself\u001b[0m\u001b[0;34m.\u001b[0m\u001b[0m_make_engine\u001b[0m\u001b[0;34m(\u001b[0m\u001b[0mf\u001b[0m\u001b[0;34m,\u001b[0m \u001b[0mself\u001b[0m\u001b[0;34m.\u001b[0m\u001b[0mengine\u001b[0m\u001b[0;34m)\u001b[0m\u001b[0;34m\u001b[0m\u001b[0;34m\u001b[0m\u001b[0m\n\u001b[0m\u001b[1;32m   1443\u001b[0m \u001b[0;34m\u001b[0m\u001b[0m\n\u001b[1;32m   1444\u001b[0m     \u001b[0;32mdef\u001b[0m \u001b[0mclose\u001b[0m\u001b[0;34m(\u001b[0m\u001b[0mself\u001b[0m\u001b[0;34m)\u001b[0m \u001b[0;34m->\u001b[0m \u001b[0;32mNone\u001b[0m\u001b[0;34m:\u001b[0m\u001b[0;34m\u001b[0m\u001b[0;34m\u001b[0m\u001b[0m\n",
            "\u001b[0;32m/usr/local/lib/python3.10/dist-packages/pandas/io/parsers/readers.py\u001b[0m in \u001b[0;36m_make_engine\u001b[0;34m(self, f, engine)\u001b[0m\n\u001b[1;32m   1733\u001b[0m                 \u001b[0;32mif\u001b[0m \u001b[0;34m\"b\"\u001b[0m \u001b[0;32mnot\u001b[0m \u001b[0;32min\u001b[0m \u001b[0mmode\u001b[0m\u001b[0;34m:\u001b[0m\u001b[0;34m\u001b[0m\u001b[0;34m\u001b[0m\u001b[0m\n\u001b[1;32m   1734\u001b[0m                     \u001b[0mmode\u001b[0m \u001b[0;34m+=\u001b[0m \u001b[0;34m\"b\"\u001b[0m\u001b[0;34m\u001b[0m\u001b[0;34m\u001b[0m\u001b[0m\n\u001b[0;32m-> 1735\u001b[0;31m             self.handles = get_handle(\n\u001b[0m\u001b[1;32m   1736\u001b[0m                 \u001b[0mf\u001b[0m\u001b[0;34m,\u001b[0m\u001b[0;34m\u001b[0m\u001b[0;34m\u001b[0m\u001b[0m\n\u001b[1;32m   1737\u001b[0m                 \u001b[0mmode\u001b[0m\u001b[0;34m,\u001b[0m\u001b[0;34m\u001b[0m\u001b[0;34m\u001b[0m\u001b[0m\n",
            "\u001b[0;32m/usr/local/lib/python3.10/dist-packages/pandas/io/common.py\u001b[0m in \u001b[0;36mget_handle\u001b[0;34m(path_or_buf, mode, encoding, compression, memory_map, is_text, errors, storage_options)\u001b[0m\n\u001b[1;32m    854\u001b[0m         \u001b[0;32mif\u001b[0m \u001b[0mioargs\u001b[0m\u001b[0;34m.\u001b[0m\u001b[0mencoding\u001b[0m \u001b[0;32mand\u001b[0m \u001b[0;34m\"b\"\u001b[0m \u001b[0;32mnot\u001b[0m \u001b[0;32min\u001b[0m \u001b[0mioargs\u001b[0m\u001b[0;34m.\u001b[0m\u001b[0mmode\u001b[0m\u001b[0;34m:\u001b[0m\u001b[0;34m\u001b[0m\u001b[0;34m\u001b[0m\u001b[0m\n\u001b[1;32m    855\u001b[0m             \u001b[0;31m# Encoding\u001b[0m\u001b[0;34m\u001b[0m\u001b[0;34m\u001b[0m\u001b[0m\n\u001b[0;32m--> 856\u001b[0;31m             handle = open(\n\u001b[0m\u001b[1;32m    857\u001b[0m                 \u001b[0mhandle\u001b[0m\u001b[0;34m,\u001b[0m\u001b[0;34m\u001b[0m\u001b[0;34m\u001b[0m\u001b[0m\n\u001b[1;32m    858\u001b[0m                 \u001b[0mioargs\u001b[0m\u001b[0;34m.\u001b[0m\u001b[0mmode\u001b[0m\u001b[0;34m,\u001b[0m\u001b[0;34m\u001b[0m\u001b[0;34m\u001b[0m\u001b[0m\n",
            "\u001b[0;31mFileNotFoundError\u001b[0m: [Errno 2] No such file or directory: 'populacao-carceraria.csv'"
          ]
        }
      ],
      "source": [
        "#leitura do dataset\n",
        "df_pop = pd.read_csv('populacao-carceraria.csv',sep=';')\n",
        "df_pop"
      ]
    },
    {
      "cell_type": "code",
      "execution_count": null,
      "id": "b5cfd647",
      "metadata": {
        "id": "b5cfd647",
        "outputId": "9a65718b-2199-4668-bae8-44c51274af2e"
      },
      "outputs": [
        {
          "name": "stdout",
          "output_type": "stream",
          "text": [
            "<class 'pandas.core.frame.DataFrame'>\n",
            "RangeIndex: 2853 entries, 0 to 2852\n",
            "Data columns (total 8 columns):\n",
            " #   Column                     Non-Null Count  Dtype \n",
            "---  ------                     --------------  ----- \n",
            " 0   codigo                     2853 non-null   int64 \n",
            " 1   estabelecimento_prisional  2853 non-null   object\n",
            " 2   sexo                       2853 non-null   object\n",
            " 3   faixa_etaria_01_jan        2853 non-null   object\n",
            " 4   ano_registro               2853 non-null   int64 \n",
            " 5   mes_numerico_01            2853 non-null   int64 \n",
            " 6   mes_registro_01            2853 non-null   object\n",
            " 7   qtde                       2655 non-null   object\n",
            "dtypes: int64(3), object(5)\n",
            "memory usage: 178.4+ KB\n"
          ]
        }
      ],
      "source": [
        "#análise da tipagem dos dados\n",
        "df_pop.info()"
      ]
    },
    {
      "cell_type": "code",
      "execution_count": null,
      "id": "98b5bf1f",
      "metadata": {
        "id": "98b5bf1f",
        "outputId": "109e11b3-d7a7-44cb-9e9c-1d1ee5abed41"
      },
      "outputs": [
        {
          "data": {
            "text/plain": [
              "codigo                         0\n",
              "estabelecimento_prisional      0\n",
              "sexo                           0\n",
              "faixa_etaria_01_jan            0\n",
              "ano_registro                   0\n",
              "mes_numerico_01                0\n",
              "mes_registro_01                0\n",
              "qtde                         198\n",
              "dtype: int64"
            ]
          },
          "execution_count": 187,
          "metadata": {},
          "output_type": "execute_result"
        }
      ],
      "source": [
        "#contabilizando dados nulos no arquivo\n",
        "df_pop.isnull().sum()"
      ]
    },
    {
      "cell_type": "code",
      "execution_count": null,
      "id": "966c63fc",
      "metadata": {
        "id": "966c63fc"
      },
      "outputs": [],
      "source": [
        "# função que trata os valores null ou NAN\n",
        "def tratar_none_coluna(df, coluna, valor_substituto):\n",
        "    df[coluna] = df[coluna].fillna(valor_substituto)\n",
        "    return df"
      ]
    },
    {
      "cell_type": "code",
      "execution_count": null,
      "id": "10c90312",
      "metadata": {
        "id": "10c90312",
        "outputId": "66a6bc32-36b5-4969-bff8-2ce41e5052c9"
      },
      "outputs": [
        {
          "data": {
            "text/html": [
              "<div>\n",
              "<style scoped>\n",
              "    .dataframe tbody tr th:only-of-type {\n",
              "        vertical-align: middle;\n",
              "    }\n",
              "\n",
              "    .dataframe tbody tr th {\n",
              "        vertical-align: top;\n",
              "    }\n",
              "\n",
              "    .dataframe thead th {\n",
              "        text-align: right;\n",
              "    }\n",
              "</style>\n",
              "<table border=\"1\" class=\"dataframe\">\n",
              "  <thead>\n",
              "    <tr style=\"text-align: right;\">\n",
              "      <th></th>\n",
              "      <th>codigo</th>\n",
              "      <th>estabelecimento_prisional</th>\n",
              "      <th>sexo</th>\n",
              "      <th>faixa_etaria_01_jan</th>\n",
              "      <th>ano_registro</th>\n",
              "      <th>mes_numerico_01</th>\n",
              "      <th>mes_registro_01</th>\n",
              "      <th>qtde</th>\n",
              "    </tr>\n",
              "  </thead>\n",
              "  <tbody>\n",
              "    <tr>\n",
              "      <th>0</th>\n",
              "      <td>1</td>\n",
              "      <td>Apac Campo Belo I</td>\n",
              "      <td>Feminino</td>\n",
              "      <td>Faixa Etária 30 a 34 anos</td>\n",
              "      <td>2022</td>\n",
              "      <td>1</td>\n",
              "      <td>jan</td>\n",
              "      <td>1,0</td>\n",
              "    </tr>\n",
              "    <tr>\n",
              "      <th>1</th>\n",
              "      <td>1</td>\n",
              "      <td>Apac Campo Belo I</td>\n",
              "      <td>Masculino</td>\n",
              "      <td>Faixa Etária 20 a 24 anos</td>\n",
              "      <td>2022</td>\n",
              "      <td>1</td>\n",
              "      <td>jan</td>\n",
              "      <td>18,0</td>\n",
              "    </tr>\n",
              "    <tr>\n",
              "      <th>2</th>\n",
              "      <td>1</td>\n",
              "      <td>Apac Campo Belo I</td>\n",
              "      <td>Masculino</td>\n",
              "      <td>Faixa Etária 25 a 29 anos</td>\n",
              "      <td>2022</td>\n",
              "      <td>1</td>\n",
              "      <td>jan</td>\n",
              "      <td>29,0</td>\n",
              "    </tr>\n",
              "    <tr>\n",
              "      <th>3</th>\n",
              "      <td>1</td>\n",
              "      <td>Apac Campo Belo I</td>\n",
              "      <td>Masculino</td>\n",
              "      <td>Faixa Etária 30 a 34 anos</td>\n",
              "      <td>2022</td>\n",
              "      <td>1</td>\n",
              "      <td>jan</td>\n",
              "      <td>13,0</td>\n",
              "    </tr>\n",
              "    <tr>\n",
              "      <th>4</th>\n",
              "      <td>1</td>\n",
              "      <td>Apac Campo Belo I</td>\n",
              "      <td>Masculino</td>\n",
              "      <td>Faixa Etária 35 a 39 anos</td>\n",
              "      <td>2022</td>\n",
              "      <td>1</td>\n",
              "      <td>jan</td>\n",
              "      <td>17,0</td>\n",
              "    </tr>\n",
              "    <tr>\n",
              "      <th>...</th>\n",
              "      <td>...</td>\n",
              "      <td>...</td>\n",
              "      <td>...</td>\n",
              "      <td>...</td>\n",
              "      <td>...</td>\n",
              "      <td>...</td>\n",
              "      <td>...</td>\n",
              "      <td>...</td>\n",
              "    </tr>\n",
              "    <tr>\n",
              "      <th>2848</th>\n",
              "      <td>242</td>\n",
              "      <td>Nucleo de Gestao de Escolta Hospitalar/Dse</td>\n",
              "      <td>Masculino</td>\n",
              "      <td>Faixa Etária 45 a 49 anos</td>\n",
              "      <td>2022</td>\n",
              "      <td>1</td>\n",
              "      <td>jan</td>\n",
              "      <td>1,0</td>\n",
              "    </tr>\n",
              "    <tr>\n",
              "      <th>2849</th>\n",
              "      <td>242</td>\n",
              "      <td>Nucleo de Gestao de Escolta Hospitalar/Dse</td>\n",
              "      <td>Masculino</td>\n",
              "      <td>Faixa Etária 50 a 54 anos</td>\n",
              "      <td>2022</td>\n",
              "      <td>1</td>\n",
              "      <td>jan</td>\n",
              "      <td>1,0</td>\n",
              "    </tr>\n",
              "    <tr>\n",
              "      <th>2850</th>\n",
              "      <td>242</td>\n",
              "      <td>Nucleo de Gestao de Escolta Hospitalar/Dse</td>\n",
              "      <td>Masculino</td>\n",
              "      <td>Faixa Etária 55 a 59 anos</td>\n",
              "      <td>2022</td>\n",
              "      <td>1</td>\n",
              "      <td>jan</td>\n",
              "      <td>3,0</td>\n",
              "    </tr>\n",
              "    <tr>\n",
              "      <th>2851</th>\n",
              "      <td>242</td>\n",
              "      <td>Nucleo de Gestao de Escolta Hospitalar/Dse</td>\n",
              "      <td>Masculino</td>\n",
              "      <td>Faixa Etária 65 a 69 anos</td>\n",
              "      <td>2022</td>\n",
              "      <td>1</td>\n",
              "      <td>jan</td>\n",
              "      <td>0</td>\n",
              "    </tr>\n",
              "    <tr>\n",
              "      <th>2852</th>\n",
              "      <td>244</td>\n",
              "      <td>Unidade Provisoria Especial de Custodia</td>\n",
              "      <td>Masculino</td>\n",
              "      <td>Faixa Etária 50 a 54 anos</td>\n",
              "      <td>2022</td>\n",
              "      <td>1</td>\n",
              "      <td>jan</td>\n",
              "      <td>1,0</td>\n",
              "    </tr>\n",
              "  </tbody>\n",
              "</table>\n",
              "<p>2853 rows × 8 columns</p>\n",
              "</div>"
            ],
            "text/plain": [
              "      codigo                   estabelecimento_prisional       sexo  \\\n",
              "0          1                           Apac Campo Belo I   Feminino   \n",
              "1          1                           Apac Campo Belo I  Masculino   \n",
              "2          1                           Apac Campo Belo I  Masculino   \n",
              "3          1                           Apac Campo Belo I  Masculino   \n",
              "4          1                           Apac Campo Belo I  Masculino   \n",
              "...      ...                                         ...        ...   \n",
              "2848     242  Nucleo de Gestao de Escolta Hospitalar/Dse  Masculino   \n",
              "2849     242  Nucleo de Gestao de Escolta Hospitalar/Dse  Masculino   \n",
              "2850     242  Nucleo de Gestao de Escolta Hospitalar/Dse  Masculino   \n",
              "2851     242  Nucleo de Gestao de Escolta Hospitalar/Dse  Masculino   \n",
              "2852     244     Unidade Provisoria Especial de Custodia  Masculino   \n",
              "\n",
              "            faixa_etaria_01_jan  ano_registro  mes_numerico_01  \\\n",
              "0     Faixa Etária 30 a 34 anos          2022                1   \n",
              "1     Faixa Etária 20 a 24 anos          2022                1   \n",
              "2     Faixa Etária 25 a 29 anos          2022                1   \n",
              "3     Faixa Etária 30 a 34 anos          2022                1   \n",
              "4     Faixa Etária 35 a 39 anos          2022                1   \n",
              "...                         ...           ...              ...   \n",
              "2848  Faixa Etária 45 a 49 anos          2022                1   \n",
              "2849  Faixa Etária 50 a 54 anos          2022                1   \n",
              "2850  Faixa Etária 55 a 59 anos          2022                1   \n",
              "2851  Faixa Etária 65 a 69 anos          2022                1   \n",
              "2852  Faixa Etária 50 a 54 anos          2022                1   \n",
              "\n",
              "     mes_registro_01  qtde  \n",
              "0                jan   1,0  \n",
              "1                jan  18,0  \n",
              "2                jan  29,0  \n",
              "3                jan  13,0  \n",
              "4                jan  17,0  \n",
              "...              ...   ...  \n",
              "2848             jan   1,0  \n",
              "2849             jan   1,0  \n",
              "2850             jan   3,0  \n",
              "2851             jan     0  \n",
              "2852             jan   1,0  \n",
              "\n",
              "[2853 rows x 8 columns]"
            ]
          },
          "execution_count": 189,
          "metadata": {},
          "output_type": "execute_result"
        }
      ],
      "source": [
        "tratar_none_coluna(df_pop,'qtde','0')"
      ]
    },
    {
      "cell_type": "code",
      "execution_count": null,
      "id": "9c0bdaf8",
      "metadata": {
        "id": "9c0bdaf8",
        "outputId": "8b3e8021-e7f5-46c7-8aa5-4de94534b614"
      },
      "outputs": [
        {
          "data": {
            "text/plain": [
              "0"
            ]
          },
          "execution_count": 190,
          "metadata": {},
          "output_type": "execute_result"
        }
      ],
      "source": [
        "#contabilizando dados nulos na coluna qtde\n",
        "df_pop.qtde.isnull().sum()"
      ]
    },
    {
      "cell_type": "code",
      "execution_count": null,
      "id": "949b5bd1",
      "metadata": {
        "id": "949b5bd1"
      },
      "outputs": [],
      "source": [
        "#função que renomeia a colunas\n",
        "def rename_column(df, old_column_name, new_column_name):\n",
        "    df.rename(columns={old_column_name: new_column_name}, inplace=True)"
      ]
    },
    {
      "cell_type": "code",
      "execution_count": null,
      "id": "03b0ace7",
      "metadata": {
        "id": "03b0ace7"
      },
      "outputs": [],
      "source": [
        "#Renomeado as colunas segundo o uso\n",
        "rename_column(df_pop,'estabelecimento_prisional','Penitenciaria')\n",
        "rename_column(df_pop,'faixa_etaria_01_jan','Faixa_Etaria')\n",
        "rename_column(df_pop,'ano_registro','Ano')\n",
        "rename_column(df_pop,'mes_registro_01','Mes')\n",
        "rename_column(df_pop,'mes_numerico_01','Mes_Num')\n",
        "rename_column(df_pop,'qtde','Detentos')"
      ]
    },
    {
      "cell_type": "code",
      "execution_count": null,
      "id": "f4293031",
      "metadata": {
        "id": "f4293031"
      },
      "outputs": [],
      "source": [
        "df_pop.head()"
      ]
    },
    {
      "cell_type": "code",
      "execution_count": null,
      "id": "f9b9d0c7",
      "metadata": {
        "id": "f9b9d0c7"
      },
      "outputs": [],
      "source": [
        "#função que muda os tipos dos dados nas colunas\n",
        "\n",
        "def alterar_tipo_dado(dataframe, coluna, novo_tipo):\n",
        "\n",
        "    try:\n",
        "        if novo_tipo == 'float':\n",
        "            # Substituir vírgulas por pontos e converter para float\n",
        "            dataframe[coluna] = dataframe[coluna].str.replace(',', '.').astype(float)\n",
        "        elif novo_tipo == 'int':\n",
        "            # Substituir vírgulas por pontos, converter para float e depois para int\n",
        "            dataframe[coluna] = dataframe[coluna].str.replace(',', '.').astype(float).astype(int)\n",
        "        elif novo_tipo == 'bool':\n",
        "            dataframe[coluna] = dataframe[coluna].astype(bool)\n",
        "        else:\n",
        "            # Para outros tipos, tentar conversão direta\n",
        "            dataframe[coluna] = dataframe[coluna].astype(novo_tipo)\n",
        "    except Exception as e:\n",
        "        print(f\"Erro ao alterar o tipo de dado: {e}\")\n",
        "\n"
      ]
    },
    {
      "cell_type": "code",
      "execution_count": null,
      "id": "d64b2cef",
      "metadata": {
        "id": "d64b2cef"
      },
      "outputs": [],
      "source": [
        "#Alterando a tipagem do dados da coluna Detentos\n",
        "alterar_tipo_dado(df_pop,'Detentos','int')"
      ]
    },
    {
      "cell_type": "code",
      "execution_count": null,
      "id": "d4733cda",
      "metadata": {
        "id": "d4733cda"
      },
      "outputs": [],
      "source": [
        "#df_pop.head(1)"
      ]
    },
    {
      "cell_type": "markdown",
      "id": "fcb59877",
      "metadata": {
        "id": "fcb59877"
      },
      "source": [
        "# Comparação por Sexo"
      ]
    },
    {
      "cell_type": "code",
      "execution_count": null,
      "id": "f59d38e3",
      "metadata": {
        "id": "f59d38e3"
      },
      "outputs": [],
      "source": [
        "#Contabilizando as linha da coluna sexo\n",
        "Comp_Sexo = df_pop['sexo'].value_counts()\n"
      ]
    },
    {
      "cell_type": "code",
      "execution_count": null,
      "id": "eaea695a",
      "metadata": {
        "id": "eaea695a"
      },
      "outputs": [],
      "source": [
        "# Mapeamento de cores\n",
        "colors = ['blue' if sexo == 'Masculino' else 'pink' for sexo in Comp_Sexo.index]\n",
        "\n",
        "# Criando o gráfico\n",
        "trace = go.Bar(x=Comp_Sexo.index, y=Comp_Sexo.values, marker_color=colors)\n",
        "layout = go.Layout(title='Comparação por Sexo',\n",
        "                   xaxis=dict(title='Sexo'),\n",
        "                   yaxis=dict(title='Quantidade'))\n",
        "\n",
        "fig = go.Figure(data=[trace], layout=layout)\n",
        "\n",
        "# Mostrando o gráfico\n",
        "fig.show()\n"
      ]
    },
    {
      "cell_type": "code",
      "execution_count": null,
      "id": "1b9cff03",
      "metadata": {
        "id": "1b9cff03",
        "colab": {
          "base_uri": "https://localhost:8080/",
          "height": 245
        },
        "outputId": "4f9636db-aa20-40f5-d963-ed5dfb9e2ba7"
      },
      "outputs": [
        {
          "output_type": "error",
          "ename": "NameError",
          "evalue": "ignored",
          "traceback": [
            "\u001b[0;31m---------------------------------------------------------------------------\u001b[0m",
            "\u001b[0;31mNameError\u001b[0m                                 Traceback (most recent call last)",
            "\u001b[0;32m<ipython-input-3-35c3617b1fe4>\u001b[0m in \u001b[0;36m<cell line: 2>\u001b[0;34m()\u001b[0m\n\u001b[1;32m      1\u001b[0m \u001b[0;31m#Agrupando as colunas de e contabilizando os dados\u001b[0m\u001b[0;34m\u001b[0m\u001b[0;34m\u001b[0m\u001b[0m\n\u001b[0;32m----> 2\u001b[0;31m \u001b[0mdf_faixa\u001b[0m \u001b[0;34m=\u001b[0m \u001b[0mdf_pop\u001b[0m\u001b[0;34m.\u001b[0m\u001b[0mgroupby\u001b[0m\u001b[0;34m(\u001b[0m\u001b[0;34m[\u001b[0m\u001b[0;34m'Faixa_Etaria'\u001b[0m\u001b[0;34m,\u001b[0m \u001b[0;34m'sexo'\u001b[0m\u001b[0;34m]\u001b[0m\u001b[0;34m)\u001b[0m\u001b[0;34m.\u001b[0m\u001b[0msize\u001b[0m\u001b[0;34m(\u001b[0m\u001b[0;34m)\u001b[0m\u001b[0;34m.\u001b[0m\u001b[0mreset_index\u001b[0m\u001b[0;34m(\u001b[0m\u001b[0mname\u001b[0m\u001b[0;34m=\u001b[0m\u001b[0;34m'count'\u001b[0m\u001b[0;34m)\u001b[0m\u001b[0;34m\u001b[0m\u001b[0;34m\u001b[0m\u001b[0m\n\u001b[0m\u001b[1;32m      3\u001b[0m \u001b[0;34m\u001b[0m\u001b[0m\n\u001b[1;32m      4\u001b[0m \u001b[0;34m\u001b[0m\u001b[0m\n\u001b[1;32m      5\u001b[0m \u001b[0mfig\u001b[0m \u001b[0;34m=\u001b[0m \u001b[0mpx\u001b[0m\u001b[0;34m.\u001b[0m\u001b[0mbar\u001b[0m\u001b[0;34m(\u001b[0m\u001b[0mdf_faixa\u001b[0m\u001b[0;34m,\u001b[0m \u001b[0mx\u001b[0m\u001b[0;34m=\u001b[0m\u001b[0;34m\"Faixa_Etaria\"\u001b[0m\u001b[0;34m,\u001b[0m \u001b[0my\u001b[0m\u001b[0;34m=\u001b[0m\u001b[0;34m\"count\"\u001b[0m\u001b[0;34m,\u001b[0m \u001b[0mcolor\u001b[0m\u001b[0;34m=\u001b[0m\u001b[0;34m\"sexo\"\u001b[0m\u001b[0;34m,\u001b[0m \u001b[0mtext_auto\u001b[0m\u001b[0;34m=\u001b[0m\u001b[0;32mTrue\u001b[0m\u001b[0;34m,\u001b[0m \u001b[0mtitle\u001b[0m\u001b[0;34m=\u001b[0m\u001b[0;34m\"Faixa Etaria por Sexo\"\u001b[0m\u001b[0;34m)\u001b[0m\u001b[0;34m\u001b[0m\u001b[0;34m\u001b[0m\u001b[0m\n",
            "\u001b[0;31mNameError\u001b[0m: name 'df_pop' is not defined"
          ]
        }
      ],
      "source": [
        "#Agrupando as colunas de e contabilizando os dados\n",
        "df_faixa = df_pop.groupby(['Faixa_Etaria', 'sexo']).size().reset_index(name='count')\n",
        "\n",
        "\n",
        "fig = px.bar(df_faixa, x=\"Faixa_Etaria\", y=\"count\", color=\"sexo\", text_auto=True, title=\"Faixa Etaria por Sexo\")\n",
        "fig.show()\n"
      ]
    },
    {
      "cell_type": "code",
      "execution_count": null,
      "id": "1447b06b",
      "metadata": {
        "id": "1447b06b",
        "outputId": "14f07029-4c3d-454e-e9a1-5b6026b66eee"
      },
      "outputs": [
        {
          "data": {
            "image/png": "[encoded data removed]",
            "text/plain": [
              "<Figure size 432x288 with 1 Axes>"
            ]
          },
          "metadata": {
            "needs_background": "light"
          },
          "output_type": "display_data"
        }
      ],
      "source": [
        "#Analise Detentos por Faixa Etaria\n",
        "sns.countplot(y='Faixa_Etaria',data=df_pop,);"
      ]
    },
    {
      "cell_type": "code",
      "execution_count": null,
      "id": "df051d64",
      "metadata": {
        "id": "df051d64"
      },
      "outputs": [],
      "source": [
        "#Percentual de Detentos por Sexo\n",
        "grafp = px.pie(df_pop,'sexo')\n",
        "grafp.update_layout(title_text='Percentual de Presos por Sexo')\n",
        "grafp.show()"
      ]
    },
    {
      "cell_type": "markdown",
      "id": "b7893075",
      "metadata": {
        "id": "b7893075"
      },
      "source": [
        "# Analisando as anormalidades em Detentos"
      ]
    },
    {
      "cell_type": "code",
      "execution_count": null,
      "id": "b9fce397",
      "metadata": {
        "id": "b9fce397",
        "outputId": "d0e8bf3f-c5be-4792-87c7-4a7410a67049"
      },
      "outputs": [
        {
          "data": {
            "text/plain": [
              "count    2853.000000\n",
              "mean       22.938311\n",
              "std        51.909935\n",
              "min         0.000000\n",
              "25%         2.000000\n",
              "50%         6.000000\n",
              "75%        21.000000\n",
              "max       750.000000\n",
              "Name: Detentos, dtype: float64"
            ]
          },
          "execution_count": 221,
          "metadata": {},
          "output_type": "execute_result"
        }
      ],
      "source": [
        "df_pop.Detentos.describe()"
      ]
    },
    {
      "cell_type": "code",
      "execution_count": null,
      "id": "59c0fb98",
      "metadata": {
        "id": "59c0fb98",
        "outputId": "be5fde92-e28f-4801-8c48-a7bcd94173df"
      },
      "outputs": [
        {
          "data": {
            "image/png": "[encoded data removed]",
            "text/plain": [
              "<Figure size 432x288 with 1 Axes>"
            ]
          },
          "metadata": {
            "needs_background": "light"
          },
          "output_type": "display_data"
        }
      ],
      "source": [
        "#analise de anormalidade\n",
        "stats.probplot(df_pop['Detentos'],dist='norm',plot=plt)\n",
        "plt.title('Análise de Normalidade')\n",
        "plt.show()"
      ]
    },
    {
      "cell_type": "code",
      "execution_count": null,
      "id": "16270b8c",
      "metadata": {
        "id": "16270b8c"
      },
      "outputs": [],
      "source": []
    }
  ],
  "metadata": {
    "kernelspec": {
      "display_name": "Python 3 (ipykernel)",
      "language": "python",
      "name": "python3"
    },
    "language_info": {
      "codemirror_mode": {
        "name": "ipython",
        "version": 3
      },
      "file_extension": ".py",
      "mimetype": "text/x-python",
      "name": "python",
      "nbconvert_exporter": "python",
      "pygments_lexer": "ipython3",
      "version": "3.9.12"
    },
    "colab": {
      "provenance": [],
      "include_colab_link": true
    }
  },
  "nbformat": 4,
  "nbformat_minor": 5
}